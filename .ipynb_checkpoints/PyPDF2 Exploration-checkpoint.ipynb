{
 "cells": [
  {
   "cell_type": "code",
   "execution_count": 1,
   "metadata": {},
   "outputs": [
    {
     "name": "stdout",
     "output_type": "stream",
     "text": [
      "Collecting PyPDF2\n",
      "  Downloading pypdf2-3.0.1-py3-none-any.whl (232 kB)\n",
      "Requirement already satisfied: typing_extensions>=3.10.0.0; python_version < \"3.10\" in c:\\python38\\lib\\site-packages (from PyPDF2) (4.3.0)\n",
      "Installing collected packages: PyPDF2\n",
      "Successfully installed PyPDF2-3.0.1\n",
      "Note: you may need to restart the kernel to use updated packages.\n"
     ]
    },
    {
     "name": "stderr",
     "output_type": "stream",
     "text": [
      "WARNING: You are using pip version 20.2.4; however, version 23.2 is available.\n",
      "You should consider upgrading via the 'c:\\python38\\python.exe -m pip install --upgrade pip' command.\n"
     ]
    }
   ],
   "source": [
    "#pip install PyPDF2"
   ]
  },
  {
   "cell_type": "code",
   "execution_count": 2,
   "metadata": {},
   "outputs": [],
   "source": [
    "import PyPDF2\n",
    "import re"
   ]
  },
  {
   "cell_type": "code",
   "execution_count": 3,
   "metadata": {},
   "outputs": [],
   "source": [
    "pdfFile = open('alviehealthlimited.pdf', 'rb')"
   ]
  },
  {
   "cell_type": "code",
   "execution_count": 4,
   "metadata": {},
   "outputs": [],
   "source": [
    "reader = PyPDF2.PdfReader(\"atoapayments.pdf\")"
   ]
  },
  {
   "cell_type": "code",
   "execution_count": 5,
   "metadata": {},
   "outputs": [
    {
     "data": {
      "text/plain": [
       "4"
      ]
     },
     "execution_count": 5,
     "metadata": {},
     "output_type": "execute_result"
    }
   ],
   "source": [
    "len(reader.pages)"
   ]
  },
  {
   "cell_type": "code",
   "execution_count": 6,
   "metadata": {},
   "outputs": [],
   "source": [
    "page = reader.pages[0]\n",
    "text = page.extract_text()"
   ]
  },
  {
   "cell_type": "code",
   "execution_count": 7,
   "metadata": {
    "scrolled": true
   },
   "outputs": [
    {
     "name": "stdout",
     "output_type": "stream",
     "text": [
      "SH01 (ef)\n",
      " Return of Allotment of Shares\n",
      " \n",
      "Company Name: ATOA PAYMENTS LIMITED\n",
      "Company Number: 13910811\n",
      "Received for filing in Electronic Format on the: 16/02/2023 XBXH556B\n",
      " \n",
      "Shares Allotted (including bonus shares)\n",
      "Date or period during which \n",
      "shares are allottedFrom To\n",
      "10/02/2023 14/02/2023\n",
      "Class of Shares: SEED \n",
      "PREFERRED\n",
      "Currency: GBPNumber allotted 451727\n",
      "Nominal value of each share 0.0025\n",
      "Amount paid: 11.0686\n",
      "Amount unpaid: 0\n",
      "No shares allotted other than for cash\n",
      "Electronically filed document for Company Number: 13910811 Page:  1\n"
     ]
    }
   ],
   "source": [
    "print(text)"
   ]
  },
  {
   "cell_type": "code",
   "execution_count": 93,
   "metadata": {},
   "outputs": [],
   "source": [
    "# Extract Shares Alloted\n",
    "def shares_alloted(text_array):\n",
    "    # Class of shares\n",
    "#     re.search(text_array,'Class of Shares')\n",
    "    for text in text_array:\n",
    "        m = re.search(r'(Number allotted)', text)\n",
    "        if (m):\n",
    "            text_match = m\n",
    "            text_contain = text\n",
    "            print(text_match)\n",
    "            print(\"Number allotted (extracted): \", text_contain.split(' ')[-1])\n",
    "#             break"
   ]
  },
  {
   "cell_type": "code",
   "execution_count": 95,
   "metadata": {
    "scrolled": false
   },
   "outputs": [
    {
     "name": "stdout",
     "output_type": "stream",
     "text": [
      "arr,  ['SH01 (ef)', ' Return of Allotment of Shares', ' ', 'Company Name: ATOA PAYMENTS LIMITED', 'Company Number: 13910811', 'Received for filing in Electronic Format on the: 16/02/2023 XBXH556B', ' ', 'Shares Allotted (including bonus shares)', 'Date or period during which ', 'shares are allottedFrom To', '10/02/2023 14/02/2023', 'Class of Shares: SEED ', 'PREFERRED', 'Currency: GBPNumber allotted 451727', 'Nominal value of each share 0.0025', 'Amount paid: 11.0686', 'Amount unpaid: 0', 'No shares allotted other than for cash', 'Electronically filed document for Company Number: 13910811 Page:  1']\n",
      "\n",
      "<re.Match object; span=(13, 28), match='Number allotted'>\n",
      "Number allotted (extracted):  451727\n",
      "========== PAGE BREAK ==========\n",
      "\n",
      "arr,  ['Statement of Capital (Share Capital)', 'Class of Shares: SEED ', 'ORDINARY', 'Currency: GBPNumber allotted 433420', 'Aggregate nominal value: 1083.55', 'Prescribed particulars', 'A. RIGHT TO VOTE ON THE BASIS OF ONE VOTE ON A SHOW OF HANDS OR, ON A ', 'POLL, ON THE BASIS OF ONE VOTE PER SHARE HELD. B. RIGHT TO PARTICIPATE IN A ', 'DIVIDEND ALONGSIDE THE EQUITY SHARES ON A PRO RATA BASIS. C. FOLLOWING THE ', 'DISTRIBUTION OF £1.00 FOR THE ENTIRE CLASS OF DEFERRED SHARES, THE RIGHT TO ', 'PARTICIPATE IN A CAPITAL DISTRIBUTION ALONGSIDE THE SEED PREFERRED SHARES BY ', 'RECEIVING A 1X NON-PARTICIPATING PREFERENCE. D. THE SEED ORDINARY SHARES ARE ', 'NON-REDEEMABLE', 'Class of Shares: ORDINARY', 'Currency: GBPNumber allotted 1178790', 'Aggregate nominal value: 2946.975', 'Prescribed particulars', 'A. RIGHT TO VOTE ON THE BASIS OF ONE VOTE ON A SHOW OF HANDS OR, ON A ', 'POLL, ON THE BASIS OF ONE VOTE PER SHARE HELD. B. RIGHT TO PARTICIPATE IN A ', 'DIVIDEND ALONGSIDE THE EQUITY SHARES ON A PRO RATA BASIS. C. FOLLOWING THE ', 'DISTRIBUTION OF £1.00 FOR THE ENTIRE CLASS OF DEFERRED SHARES, AND SUBJECT TO ', 'THE SEED PREFERRED AND SEED ORDINARY 1X PARTICIPATING PREFERENCE, THE RIGHT ', 'TO PARTICIPATE IN A CAPITAL DISTRIBUTION ON A PRO RATA BASIS. D. THE ORDINARY ', 'SHARES ARE NON-REDEEMABLE.', 'Class of Shares: SEED ', 'PREFERRED', 'Currency: GBPNumber allotted 451727', 'Aggregate nominal value: 1129.3175', 'Prescribed particulars', 'Electronically filed document for Company Number: 13910811 Page:  2']\n",
      "\n",
      "<re.Match object; span=(13, 28), match='Number allotted'>\n",
      "Number allotted (extracted):  433420\n",
      "<re.Match object; span=(13, 28), match='Number allotted'>\n",
      "Number allotted (extracted):  1178790\n",
      "<re.Match object; span=(13, 28), match='Number allotted'>\n",
      "Number allotted (extracted):  451727\n",
      "========== PAGE BREAK ==========\n",
      "\n",
      "arr,  ['A. RIGHT TO VOTE ON THE BASIS OF ONE VOTE ON A SHOW OF HANDS OR, ON A ', 'POLL, ON THE BASIS OF ONE VOTE PER SHARE HELD. B. RIGHT TO PARTICIPATE IN A ', 'DIVIDEND ALONGSIDE THE EQUITY SHARES ON A PRO RATA BASIS. C. FOLLOWING THE ', 'DISTRIBUTION OF £1.00 FOR THE ENTIRE CLASS OF DEFERRED SHARES, THE RIGHT TO ', 'PARTICIPATE IN A CAPITAL DISTRIBUTION ALONGSIDE THE SEED ORDINARY SHARES BY ', 'RECEIVING A 1X NON-PARTICIPATING PREFERENCE. D. THE SEED PREFERRED SHARES ', 'ARE NON-REDEEMABLE.', 'Electronically filed document for Company Number: 13910811 Page:  3']\n",
      "\n",
      "========== PAGE BREAK ==========\n",
      "\n",
      "arr,  ['Statement of Capital (Totals)', 'Currency: GBP Total number of shares: 2063937', 'Total aggregate nominal value:5159.8425', 'Total aggregate amount unpaid:0', ' ', 'Authorisation', 'Authenticated', 'This form was authorised by one of the following:', 'Director, Secretary, Person Authorised, Administrator, Administrative Receiver, Receiver, Receiver ', 'Manager, CIC Manager.', 'End of Electronically filed document for Company Number: 13910811 Page:  4']\n",
      "\n",
      "========== PAGE BREAK ==========\n",
      "\n"
     ]
    }
   ],
   "source": [
    "for p in reader.pages:\n",
    "    text = p.extract_text()\n",
    "    text_ar = text.split('\\n')\n",
    "    print(\"arr, \",text_ar)\n",
    "#     print(text)\n",
    "    print('')    \n",
    "    \n",
    "    shares_alloted(text_ar)\n",
    "    print('========== PAGE BREAK ==========')\n",
    "    print('')    "
   ]
  },
  {
   "cell_type": "code",
   "execution_count": 29,
   "metadata": {},
   "outputs": [
    {
     "name": "stdout",
     "output_type": "stream",
     "text": [
      "<re.Match object; span=(327, 335), match='Currency'>\n"
     ]
    }
   ],
   "source": [
    "print(re.search('Currency', text))"
   ]
  },
  {
   "cell_type": "code",
   "execution_count": 82,
   "metadata": {},
   "outputs": [],
   "source": [
    "text = 'Currency: GBPNumber allotted 451727'\n",
    "match = re.search(r'(Number allotted)', text)"
   ]
  },
  {
   "cell_type": "code",
   "execution_count": 84,
   "metadata": {},
   "outputs": [
    {
     "name": "stdout",
     "output_type": "stream",
     "text": [
      "<re.Match object; span=(13, 28), match='Number allotted'>\n",
      "Number allotted (extracted):  451727\n"
     ]
    }
   ],
   "source": [
    "text_array = ['SH01 (ef)', ' Return of Allotment of Shares', ' ', 'Company Name: ATOA PAYMENTS LIMITED', 'Company Number: 13910811', 'Received for filing in Electronic Format on the: 16/02/2023 XBXH556B', ' ', 'Shares Allotted (including bonus shares)', 'Date or period during which ', 'shares are allottedFrom To', '10/02/2023 14/02/2023', 'Class of Shares: SEED ', 'PREFERRED', 'Currency: GBPNumber allotted 451727', 'Nominal value of each share 0.0025', 'Amount paid: 11.0686', 'Amount unpaid: 0', 'No shares allotted other than for cash', 'Electronically filed document for Company Number: 13910811 Page:  1']\n",
    "\n",
    "text_match = None\n",
    "text_contain = ''\n",
    "for text in text_array:\n",
    "    m = re.search(r'(Number allotted)', text)\n",
    "    if (m):\n",
    "        text_match = m\n",
    "        text_contain = text\n",
    "print(text_match)\n",
    "print(\"Number allotted (extracted): \", text_contain.split(' ')[-1])"
   ]
  },
  {
   "cell_type": "code",
   "execution_count": null,
   "metadata": {},
   "outputs": [],
   "source": []
  }
 ],
 "metadata": {
  "kernelspec": {
   "display_name": "Python 3",
   "language": "python",
   "name": "python3"
  },
  "language_info": {
   "codemirror_mode": {
    "name": "ipython",
    "version": 3
   },
   "file_extension": ".py",
   "mimetype": "text/x-python",
   "name": "python",
   "nbconvert_exporter": "python",
   "pygments_lexer": "ipython3",
   "version": "3.8.2"
  }
 },
 "nbformat": 4,
 "nbformat_minor": 4
}
